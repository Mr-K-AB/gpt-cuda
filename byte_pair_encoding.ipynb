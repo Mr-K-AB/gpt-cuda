{
 "cells": [
  {
   "cell_type": "code",
   "execution_count": 4,
   "metadata": {},
   "outputs": [
    {
     "name": "stdout",
     "output_type": "stream",
     "text": [
      "Collecting tokenizers\n",
      "  Downloading tokenizers-0.20.0-cp311-none-win_amd64.whl (2.3 MB)\n",
      "                                              0.0/2.3 MB ? eta -:--:--\n",
      "     --                                       0.1/2.3 MB 4.3 MB/s eta 0:00:01\n",
      "     ------------                             0.7/2.3 MB 9.2 MB/s eta 0:00:01\n",
      "     -------------------                      1.1/2.3 MB 8.9 MB/s eta 0:00:01\n",
      "     -----------------------------            1.7/2.3 MB 9.8 MB/s eta 0:00:01\n",
      "     -------------------------------------    2.2/2.3 MB 9.9 MB/s eta 0:00:01\n",
      "     ---------------------------------------- 2.3/2.3 MB 9.3 MB/s eta 0:00:00\n",
      "Requirement already satisfied: huggingface-hub<1.0,>=0.16.4 in g:\\project_works\\fcc-gpt\\fcc-gpt-cuda\\lib\\site-packages (from tokenizers) (0.24.6)\n",
      "Requirement already satisfied: filelock in g:\\project_works\\fcc-gpt\\fcc-gpt-cuda\\lib\\site-packages (from huggingface-hub<1.0,>=0.16.4->tokenizers) (3.13.1)\n",
      "Requirement already satisfied: fsspec>=2023.5.0 in g:\\project_works\\fcc-gpt\\fcc-gpt-cuda\\lib\\site-packages (from huggingface-hub<1.0,>=0.16.4->tokenizers) (2024.2.0)\n",
      "Requirement already satisfied: packaging>=20.9 in g:\\project_works\\fcc-gpt\\fcc-gpt-cuda\\lib\\site-packages (from huggingface-hub<1.0,>=0.16.4->tokenizers) (24.1)\n",
      "Requirement already satisfied: pyyaml>=5.1 in g:\\project_works\\fcc-gpt\\fcc-gpt-cuda\\lib\\site-packages (from huggingface-hub<1.0,>=0.16.4->tokenizers) (6.0.2)\n",
      "Requirement already satisfied: requests in g:\\project_works\\fcc-gpt\\fcc-gpt-cuda\\lib\\site-packages (from huggingface-hub<1.0,>=0.16.4->tokenizers) (2.32.3)\n",
      "Requirement already satisfied: tqdm>=4.42.1 in g:\\project_works\\fcc-gpt\\fcc-gpt-cuda\\lib\\site-packages (from huggingface-hub<1.0,>=0.16.4->tokenizers) (4.66.5)\n",
      "Requirement already satisfied: typing-extensions>=3.7.4.3 in g:\\project_works\\fcc-gpt\\fcc-gpt-cuda\\lib\\site-packages (from huggingface-hub<1.0,>=0.16.4->tokenizers) (4.12.2)\n",
      "Requirement already satisfied: colorama in g:\\project_works\\fcc-gpt\\fcc-gpt-cuda\\lib\\site-packages (from tqdm>=4.42.1->huggingface-hub<1.0,>=0.16.4->tokenizers) (0.4.6)\n",
      "Requirement already satisfied: charset-normalizer<4,>=2 in g:\\project_works\\fcc-gpt\\fcc-gpt-cuda\\lib\\site-packages (from requests->huggingface-hub<1.0,>=0.16.4->tokenizers) (3.3.2)\n",
      "Requirement already satisfied: idna<4,>=2.5 in g:\\project_works\\fcc-gpt\\fcc-gpt-cuda\\lib\\site-packages (from requests->huggingface-hub<1.0,>=0.16.4->tokenizers) (3.7)\n",
      "Requirement already satisfied: urllib3<3,>=1.21.1 in g:\\project_works\\fcc-gpt\\fcc-gpt-cuda\\lib\\site-packages (from requests->huggingface-hub<1.0,>=0.16.4->tokenizers) (2.2.2)\n",
      "Requirement already satisfied: certifi>=2017.4.17 in g:\\project_works\\fcc-gpt\\fcc-gpt-cuda\\lib\\site-packages (from requests->huggingface-hub<1.0,>=0.16.4->tokenizers) (2024.7.4)\n",
      "Installing collected packages: tokenizers\n",
      "Successfully installed tokenizers-0.20.0\n"
     ]
    },
    {
     "name": "stderr",
     "output_type": "stream",
     "text": [
      "\n",
      "[notice] A new release of pip is available: 23.1.2 -> 24.2\n",
      "[notice] To update, run: python.exe -m pip install --upgrade pip\n"
     ]
    }
   ],
   "source": [
    "!pip install tokenizers"
   ]
  },
  {
   "cell_type": "code",
   "execution_count": 5,
   "metadata": {},
   "outputs": [],
   "source": [
    "from tokenizers import Tokenizer\n",
    "from tokenizers.models import BPE\n",
    "from tokenizers.trainers import BpeTrainer\n",
    "from tokenizers.pre_tokenizers import Whitespace"
   ]
  },
  {
   "cell_type": "code",
   "execution_count": null,
   "metadata": {},
   "outputs": [],
   "source": [
    "# write val_split.txt to a file called tokenizer_training.txt that is 5% of the original size\n",
    "with open(\"val_split.txt\", \"r\") as file:\n",
    "    lines = file.readlines()\n",
    "    with open(\"tokenizer_training.txt\", \"w\") as file:\n",
    "        for i in range(0, int(len(lines) * 0.05)):\n",
    "            file.write(lines[i])"
   ]
  },
  {
   "cell_type": "code",
   "execution_count": null,
   "metadata": {},
   "outputs": [],
   "source": [
    "# Initialize a tokenizer with BPE model\n",
    "tokenizer = Tokenizer(BPE(unk_token=\"[UNK]\"))\n",
    "tokenizer.pre_tokenizer = Whitespace()\n",
    "\n",
    "# Create a BpeTrainer with your desired vocabulary size\n",
    "vocab_size = 50000  # Adjust the vocabulary size here\n",
    "trainer = BpeTrainer(special_tokens=[\"[UNK]\", \"[CLS]\", \"[SEP]\", \"[PAD]\", \"[MASK]\"], vocab_size=vocab_size)\n",
    "\n",
    "# List of files to train the tokenizer on\n",
    "files = [\"tokenizer_training.txt\"]\n",
    "\n",
    "# Train the tokenizer\n",
    "tokenizer.train(files, trainer)\n",
    "\n",
    "# Save the tokenizer\n",
    "tokenizer.save(\"bpe_tokenizer.json\")"
   ]
  },
  {
   "cell_type": "code",
   "execution_count": null,
   "metadata": {},
   "outputs": [],
   "source": [
    "# Load the tokenizer\n",
    "tokenizer = Tokenizer.from_file(\"bpe_tokenizer.json\")\n",
    "\n",
    "# Encode and decode functions\n",
    "encode = lambda s: tokenizer.encode(s).ids\n",
    "decode = lambda l: tokenizer.decode(l)\n",
    "\n",
    "# Example usage\n",
    "encoded = encode(\"Hello, world!\")\n",
    "decoded = decode(encoded)\n",
    "print(f\"Encoded: {encoded}\\nDecoded: {decoded}\")"
   ]
  },
  {
   "cell_type": "code",
   "execution_count": null,
   "metadata": {},
   "outputs": [],
   "source": [
    "from transformers import AutoTokenizer\n",
    "\n",
    "# Load a pretrained tokenizer\n",
    "tokenizer = AutoTokenizer.from_pretrained(\"bert-base-uncased\")\n",
    "\n",
    "# Encode and decode functions using the tokenizer\n",
    "encode = lambda s: tokenizer.encode(s, add_special_tokens=True)\n",
    "decode = lambda l: tokenizer.decode(l, skip_special_tokens=True)\n",
    "\n",
    "# Example usage\n",
    "encoded = encode(\"Hello, world!\")\n",
    "decoded = decode(encoded)\n",
    "print(f\"Encoded: {encoded}\\nDecoded: {decoded}\")"
   ]
  },
  {
   "cell_type": "code",
   "execution_count": null,
   "metadata": {},
   "outputs": [],
   "source": [
    "import torch\n",
    "import time\n",
    "\n",
    "# Assuming 'data' is your tensor on the CPU\n",
    "data = torch.randn(100, 100)  # Example tensor\n",
    "\n",
    "start_time = time.time()\n",
    "data_gpu = data.to('cuda')  # Transfer to GPU\n",
    "end_time = time.time()\n",
    "\n",
    "print(f\"Time taken to transfer tensor to GPU: {end_time - start_time} seconds\")"
   ]
  }
 ],
 "metadata": {
  "kernelspec": {
   "display_name": "fcc-gpt-cuda",
   "language": "python",
   "name": "python3"
  },
  "language_info": {
   "codemirror_mode": {
    "name": "ipython",
    "version": 3
   },
   "file_extension": ".py",
   "mimetype": "text/x-python",
   "name": "python",
   "nbconvert_exporter": "python",
   "pygments_lexer": "ipython3",
   "version": "3.11.4"
  }
 },
 "nbformat": 4,
 "nbformat_minor": 2
}
