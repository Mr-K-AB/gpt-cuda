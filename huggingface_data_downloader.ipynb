{
 "cells": [
  {
   "cell_type": "code",
   "execution_count": 4,
   "metadata": {},
   "outputs": [
    {
     "data": {
      "application/vnd.jupyter.widget-view+json": {
       "model_id": "be423394c1314ce4ac8dd58ba4ab1253",
       "version_major": 2,
       "version_minor": 0
      },
      "text/plain": [
       "Downloading data:   0%|          | 0/21 [00:00<?, ?files/s]"
      ]
     },
     "metadata": {},
     "output_type": "display_data"
    }
   ],
   "source": [
    "import os\n",
    "from datasets import load_dataset\n",
    "\n",
    "# Set the cache directory\n",
    "os.environ['HF_DATASETS_CACHE'] = 'G:/PROJECT_WORKS/fcc-gpt/openwebtext/cache'\n",
    "\n",
    "# Load the dataset with the trust_remote_code argument\n",
    "dataset = load_dataset('Skylion007/openwebtext', trust_remote_code=True)"
   ]
  },
  {
   "cell_type": "code",
   "execution_count": null,
   "metadata": {},
   "outputs": [],
   "source": [
    "# Save the dataset to a local directory\n",
    "dataset.save_to_disk('G:/PROJECT_WORKS/fcc-gpt/openwebtext')\n",
    "\n",
    "# Load the dataset back from the local directory\n",
    "# loaded_dataset = load_dataset('/path/to/save/imdb_dataset')\n"
   ]
  }
 ],
 "metadata": {
  "kernelspec": {
   "display_name": "fcc-gpt-cuda",
   "language": "python",
   "name": "python3"
  },
  "language_info": {
   "codemirror_mode": {
    "name": "ipython",
    "version": 3
   },
   "file_extension": ".py",
   "mimetype": "text/x-python",
   "name": "python",
   "nbconvert_exporter": "python",
   "pygments_lexer": "ipython3",
   "version": "3.11.4"
  }
 },
 "nbformat": 4,
 "nbformat_minor": 2
}
