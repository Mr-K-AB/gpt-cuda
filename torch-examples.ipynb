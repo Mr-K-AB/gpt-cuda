{
 "cells": [
  {
   "cell_type": "code",
   "execution_count": 5,
   "metadata": {},
   "outputs": [
    {
     "name": "stdout",
     "output_type": "stream",
     "text": [
      "cuda\n"
     ]
    }
   ],
   "source": [
    "import torch\n",
    "import time\n",
    "import numpy as np\n",
    "import torch.nn as nn\n",
    "import torch.nn.functional as F\n",
    "\n",
    "device = 'cuda' if torch.cuda.is_available() else 'cpu'\n",
    "print(device)"
   ]
  },
  {
   "cell_type": "code",
   "execution_count": 9,
   "metadata": {},
   "outputs": [
    {
     "name": "stdout",
     "output_type": "stream",
     "text": [
      "0.00000000\n",
      "CPU times: total: 0 ns\n",
      "Wall time: 0 ns\n"
     ]
    }
   ],
   "source": [
    "%%time\n",
    "start_time = time.time()\n",
    "# matrix operations here\n",
    "zeros = torch.zeros(1, 1)\n",
    "end_time = time.time()\n",
    "\n",
    "elapsed_time = end_time - start_time\n",
    "print(f\"{elapsed_time:.8f}\")"
   ]
  },
  {
   "cell_type": "code",
   "execution_count": 11,
   "metadata": {},
   "outputs": [
    {
     "name": "stdout",
     "output_type": "stream",
     "text": [
      "0.03206944\n",
      "0.13945627\n"
     ]
    }
   ],
   "source": [
    "torch_rand1 = torch.rand(100, 100, 100, 100).to(device)\n",
    "torch_rand2 = torch.rand(100, 100, 100, 100).to(device)\n",
    "np_rand1 = torch.rand(100, 100, 100, 100)\n",
    "np_rand2 = torch.rand(100, 100, 100, 100)\n",
    "\n",
    "start_time = time.time()\n",
    "\n",
    "rand = (torch_rand1 @ torch_rand2)\n",
    "\n",
    "end_time = time.time()\n",
    "\n",
    "elapsed_time = end_time - start_time\n",
    "print(f\"{elapsed_time:.8f}\")\n",
    "\n",
    "\n",
    "start_time = time.time()\n",
    "\n",
    "rand = np.multiply(np_rand1, np_rand2)\n",
    "end_time = time.time()\n",
    "elapsed_time = end_time - start_time\n",
    "print(f\"{elapsed_time:.8f}\")"
   ]
  },
  {
   "cell_type": "code",
   "execution_count": 17,
   "metadata": {},
   "outputs": [
    {
     "name": "stdout",
     "output_type": "stream",
     "text": [
      "tensor([1, 1, 1, 1, 1, 1, 0, 1, 1, 1])\n"
     ]
    }
   ],
   "source": [
    "# embeddings, torch.stack, torch.multinomial, torch.tril, torch.triu, input.T / input.transpose, nn.Linear, torch.cat, F.softmax (show all the examples of functions/methods with pytorch docs)\n",
    "\n",
    "\n",
    "# Define a probability tensor\n",
    "probabilities = torch.tensor([0.1, 0.9])\n",
    "# 10% or 0.1 => 0, 90% or 0.9 => 1. each probability points to the index of the probability in the tensor\n",
    "# Draw 5 samples from the multinomial distribution\n",
    "samples = torch.multinomial(probabilities, num_samples=10, replacement=True)\n",
    "print(samples)"
   ]
  },
  {
   "cell_type": "code",
   "execution_count": 19,
   "metadata": {},
   "outputs": [
    {
     "data": {
      "text/plain": [
       "tensor([1, 2, 3, 4, 5])"
      ]
     },
     "execution_count": 19,
     "metadata": {},
     "output_type": "execute_result"
    }
   ],
   "source": [
    "tensor = torch.tensor([1, 2, 3, 4])\n",
    "out = torch.cat((tensor, torch.tensor([5])), dim=0)\n",
    "out"
   ]
  },
  {
   "cell_type": "code",
   "execution_count": 20,
   "metadata": {},
   "outputs": [
    {
     "data": {
      "text/plain": [
       "tensor([[1., 0., 0., 0., 0.],\n",
       "        [1., 1., 0., 0., 0.],\n",
       "        [1., 1., 1., 0., 0.],\n",
       "        [1., 1., 1., 1., 0.],\n",
       "        [1., 1., 1., 1., 1.]])"
      ]
     },
     "execution_count": 20,
     "metadata": {},
     "output_type": "execute_result"
    }
   ],
   "source": [
    "out = torch.tril(torch.ones(5, 5))\n",
    "out"
   ]
  },
  {
   "cell_type": "code",
   "execution_count": 21,
   "metadata": {},
   "outputs": [
    {
     "data": {
      "text/plain": [
       "tensor([[1., 1., 1., 1., 1.],\n",
       "        [0., 1., 1., 1., 1.],\n",
       "        [0., 0., 1., 1., 1.],\n",
       "        [0., 0., 0., 1., 1.],\n",
       "        [0., 0., 0., 0., 1.]])"
      ]
     },
     "execution_count": 21,
     "metadata": {},
     "output_type": "execute_result"
    }
   ],
   "source": [
    "out = torch.triu(torch.ones(5, 5))\n",
    "out"
   ]
  },
  {
   "cell_type": "code",
   "execution_count": 22,
   "metadata": {},
   "outputs": [
    {
     "data": {
      "text/plain": [
       "tensor([[0., -inf, -inf, -inf, -inf],\n",
       "        [0., 0., -inf, -inf, -inf],\n",
       "        [0., 0., 0., -inf, -inf],\n",
       "        [0., 0., 0., 0., -inf],\n",
       "        [0., 0., 0., 0., 0.]])"
      ]
     },
     "execution_count": 22,
     "metadata": {},
     "output_type": "execute_result"
    }
   ],
   "source": [
    "out = torch.zeros(5, 5).masked_fill(torch.tril(torch.ones(5, 5)) == 0, float('-inf'))\n",
    "out"
   ]
  },
  {
   "cell_type": "code",
   "execution_count": 23,
   "metadata": {},
   "outputs": [
    {
     "data": {
      "text/plain": [
       "tensor([[1., 0., 0., 0., 0.],\n",
       "        [1., 1., 0., 0., 0.],\n",
       "        [1., 1., 1., 0., 0.],\n",
       "        [1., 1., 1., 1., 0.],\n",
       "        [1., 1., 1., 1., 1.]])"
      ]
     },
     "execution_count": 23,
     "metadata": {},
     "output_type": "execute_result"
    }
   ],
   "source": [
    "torch.exp(out)"
   ]
  },
  {
   "cell_type": "code",
   "execution_count": 24,
   "metadata": {},
   "outputs": [
    {
     "name": "stdout",
     "output_type": "stream",
     "text": [
      "torch.Size([3, 2, 4])\n",
      "torch.Size([2, 4, 3])\n"
     ]
    }
   ],
   "source": [
    "input = torch.zeros(2, 3, 4)\n",
    "out1 = input.transpose(0, 1)\n",
    "out2 = input.transpose(-2,-1)\n",
    "print(out1.shape)\n",
    "print(out2.shape)\n",
    "# torch.permute works the same but you provide the new order of dimensions instead of the dimensions you'd like to swap."
   ]
  },
  {
   "cell_type": "code",
   "execution_count": 25,
   "metadata": {},
   "outputs": [
    {
     "data": {
      "text/plain": [
       "tensor([[1, 2, 3],\n",
       "        [4, 5, 6],\n",
       "        [7, 8, 9]])"
      ]
     },
     "execution_count": 25,
     "metadata": {},
     "output_type": "execute_result"
    }
   ],
   "source": [
    "tensor1 = torch.tensor([1, 2, 3])\n",
    "tensor2 = torch.tensor([4, 5, 6])\n",
    "tensor3 = torch.tensor([7, 8, 9])\n",
    "\n",
    "# Stack the tensors along a new dimension\n",
    "stacked_tensor = torch.stack([tensor1, tensor2, tensor3])\n",
    "stacked_tensor"
   ]
  },
  {
   "cell_type": "code",
   "execution_count": 4,
   "metadata": {},
   "outputs": [
    {
     "name": "stdout",
     "output_type": "stream",
     "text": [
      "tensor([12.9250, -3.0377,  1.8686], grad_fn=<SqueezeBackward4>)\n"
     ]
    }
   ],
   "source": [
    "sample = torch.tensor([10.,10.,10.])\n",
    "linear = nn.Linear(3, 3, bias=False)\n",
    "print(linear(sample))"
   ]
  },
  {
   "cell_type": "code",
   "execution_count": 6,
   "metadata": {},
   "outputs": [
    {
     "name": "stdout",
     "output_type": "stream",
     "text": [
      "tensor([0.0900, 0.2447, 0.6652])\n"
     ]
    }
   ],
   "source": [
    "# Create a tensor\n",
    "tensor1 = torch.tensor([1.0, 2.0, 3.0])\n",
    "\n",
    "# Apply softmax using torch.nn.functional.softmax()\n",
    "softmax_output = F.softmax(tensor1, dim=0)\n",
    "\n",
    "print(softmax_output)"
   ]
  },
  {
   "cell_type": "code",
   "execution_count": 7,
   "metadata": {},
   "outputs": [
    {
     "name": "stdout",
     "output_type": "stream",
     "text": [
      "torch.Size([4, 6])\n",
      "tensor([[-0.3209,  0.0962, -0.0692, -0.5159,  0.7349, -0.3470],\n",
      "        [ 0.1611,  0.9880,  0.0237,  1.0812,  1.8651,  0.4241],\n",
      "        [-1.1521, -0.7120, -0.0192,  0.6188,  0.6041,  0.5546],\n",
      "        [-0.3432,  0.9566, -1.0303,  0.0255,  0.1361,  2.1876]],\n",
      "       grad_fn=<EmbeddingBackward0>)\n"
     ]
    }
   ],
   "source": [
    "# Initialize an embedding layer\n",
    "vocab_size = 80\n",
    "embedding_dim = 6\n",
    "embedding = nn.Embedding(vocab_size, embedding_dim)\n",
    "\n",
    "# Create some input indices\n",
    "input_indices = torch.LongTensor([1, 5, 3, 2])\n",
    "\n",
    "# Apply the embedding layer\n",
    "embedded_output = embedding(input_indices)\n",
    "\n",
    "# The output will be a tensor of shape (4, 100), where 4 is the number of inputs\n",
    "# and 100 is the dimensionality of the embedding vectors\n",
    "print(embedded_output.shape)\n",
    "print(embedded_output)"
   ]
  },
  {
   "cell_type": "code",
   "execution_count": 8,
   "metadata": {},
   "outputs": [
    {
     "name": "stdout",
     "output_type": "stream",
     "text": [
      "tensor([[ 27,  30,  33],\n",
      "        [ 61,  68,  75],\n",
      "        [ 95, 106, 117]])\n"
     ]
    }
   ],
   "source": [
    "a = torch.tensor([[1,2],[3,4],[5,6]])\n",
    "b = torch.tensor([[7,8,9],[10,11,12]])\n",
    "# print(a @ b)\n",
    "print(torch.matmul(a, b))"
   ]
  },
  {
   "cell_type": "code",
   "execution_count": 16,
   "metadata": {},
   "outputs": [
    {
     "name": "stdout",
     "output_type": "stream",
     "text": [
      "torch.float32 torch.float32\n",
      "tensor([[0., 0., 0.],\n",
      "        [0., 0., 0.],\n",
      "        [0., 0., 0.]])\n"
     ]
    }
   ],
   "source": [
    "int_64 = torch.randint(1, (3, 2)).float()\n",
    "#type int64\n",
    "float_32 = torch.rand(2,3)\n",
    "#type float32\n",
    "print(int_64.dtype, float_32.dtype)\n",
    "result = torch.matmul(int_64, float_32)\n",
    "print(result)"
   ]
  },
  {
   "cell_type": "code",
   "execution_count": 17,
   "metadata": {},
   "outputs": [
    {
     "name": "stdout",
     "output_type": "stream",
     "text": [
      "torch.Size([2, 3, 5])\n",
      "torch.Size([2, 3, 5])\n"
     ]
    }
   ],
   "source": [
    "a = torch.rand(2, 3, 5)\n",
    "print(a.shape)\n",
    "x, y, z = a.shape\n",
    "a = a.view(x,y,z)\n",
    "# print(x, y, z)\n",
    "print(a.shape)"
   ]
  },
  {
   "cell_type": "code",
   "execution_count": 18,
   "metadata": {},
   "outputs": [
    {
     "name": "stdout",
     "output_type": "stream",
     "text": [
      "tensor([[4.0155e-01, 2.2594e-01, 6.8579e-01, 3.1042e-01, 9.5865e-01, 7.7463e-01,\n",
      "         5.7751e-01, 9.0656e-01, 6.0304e-01, 6.5750e-01],\n",
      "        [5.8511e-01, 7.2806e-01, 4.1850e-01, 1.2336e-02, 7.4830e-01, 8.5586e-01,\n",
      "         2.7353e-01, 2.0893e-01, 3.1246e-01, 3.9237e-01],\n",
      "        [6.2949e-01, 9.0421e-01, 1.0714e-01, 9.4233e-01, 9.6269e-02, 4.3370e-01,\n",
      "         8.2912e-01, 4.9037e-01, 5.0688e-02, 2.9059e-01],\n",
      "        [6.9511e-01, 4.8654e-01, 9.0067e-01, 5.6830e-01, 4.3873e-01, 8.0331e-01,\n",
      "         8.9663e-01, 1.6488e-02, 6.0020e-01, 8.5855e-01],\n",
      "        [4.1390e-01, 6.4386e-01, 7.9724e-01, 9.6758e-01, 7.5550e-01, 3.7753e-01,\n",
      "         1.2065e-01, 4.7479e-01, 9.4777e-01, 8.7041e-01],\n",
      "        [5.5056e-01, 5.4305e-01, 8.0539e-01, 8.1252e-01, 8.8226e-01, 3.0478e-01,\n",
      "         6.7214e-01, 5.7385e-01, 8.4765e-01, 3.6971e-01],\n",
      "        [7.9996e-01, 2.0178e-01, 8.8423e-01, 6.5797e-01, 7.2398e-01, 4.6496e-01,\n",
      "         2.3055e-01, 6.9387e-01, 6.6815e-01, 1.9558e-02],\n",
      "        [3.8858e-01, 7.0538e-01, 1.1380e-01, 2.9546e-01, 5.7874e-01, 1.5265e-01,\n",
      "         3.6218e-01, 4.6900e-01, 9.6283e-01, 6.1040e-01],\n",
      "        [3.1048e-02, 9.0651e-01, 1.9968e-01, 3.1583e-01, 8.7594e-01, 8.8821e-01,\n",
      "         7.3698e-01, 2.4953e-02, 2.3460e-01, 8.1698e-01],\n",
      "        [1.7231e-01, 6.8602e-01, 1.5649e-01, 5.3382e-01, 2.8821e-01, 7.7445e-02,\n",
      "         4.2816e-01, 1.0542e-01, 1.7631e-01, 7.2228e-02],\n",
      "        [5.9137e-01, 9.2665e-01, 4.3181e-02, 3.5535e-01, 4.2516e-01, 5.1737e-01,\n",
      "         6.3022e-01, 8.5570e-01, 5.9991e-01, 7.8066e-01],\n",
      "        [6.4684e-01, 8.6437e-01, 5.9550e-01, 3.0788e-01, 7.9971e-01, 3.8946e-01,\n",
      "         7.3560e-02, 1.2168e-01, 6.7115e-01, 8.3867e-01],\n",
      "        [1.0496e-01, 4.2111e-01, 8.2876e-01, 5.8062e-01, 9.2155e-01, 4.7729e-01,\n",
      "         6.2586e-01, 2.0914e-01, 4.2503e-02, 3.4590e-01],\n",
      "        [9.8449e-01, 1.8251e-01, 8.6725e-01, 5.6671e-01, 4.5301e-01, 3.0416e-01,\n",
      "         4.3170e-01, 3.2338e-01, 1.9783e-01, 5.9154e-01],\n",
      "        [3.5029e-01, 4.8800e-01, 8.8058e-01, 6.3950e-01, 8.5724e-02, 7.7638e-01,\n",
      "         3.4972e-01, 5.8531e-01, 3.7827e-01, 6.5458e-01],\n",
      "        [8.6113e-01, 4.6383e-01, 9.8106e-01, 7.5522e-02, 8.2986e-01, 5.9601e-01,\n",
      "         9.6013e-01, 2.5076e-01, 4.1764e-01, 4.7248e-01],\n",
      "        [7.5843e-01, 7.0446e-01, 1.1521e-02, 6.7936e-01, 8.7872e-01, 7.4104e-01,\n",
      "         6.0426e-01, 4.2327e-02, 2.4208e-01, 4.9296e-02],\n",
      "        [8.8110e-01, 5.1159e-01, 1.3113e-01, 2.3056e-01, 9.5164e-02, 6.8923e-01,\n",
      "         1.7012e-01, 5.7182e-02, 2.6452e-01, 7.7966e-01],\n",
      "        [2.4673e-01, 1.1613e-01, 8.0391e-01, 4.2784e-02, 9.4284e-01, 8.7502e-01,\n",
      "         4.4194e-01, 3.1775e-01, 4.3120e-02, 3.8196e-01],\n",
      "        [3.8995e-01, 1.2696e-01, 9.2928e-01, 6.1179e-01, 5.4914e-01, 7.6346e-01,\n",
      "         2.4527e-01, 9.1317e-01, 3.5452e-01, 9.2157e-02],\n",
      "        [9.2787e-01, 1.3848e-01, 9.2885e-01, 3.6798e-01, 6.7082e-01, 2.2298e-01,\n",
      "         6.5240e-01, 3.6990e-01, 8.3165e-01, 8.4379e-01],\n",
      "        [6.3622e-01, 6.4718e-01, 3.3125e-01, 8.1438e-01, 2.9253e-01, 8.7852e-01,\n",
      "         8.0847e-01, 8.7714e-01, 4.8715e-01, 2.7719e-01],\n",
      "        [8.1408e-01, 8.9160e-01, 7.8324e-03, 3.4389e-01, 6.5317e-01, 4.5465e-01,\n",
      "         9.8658e-01, 6.1782e-02, 4.5104e-01, 5.7180e-01],\n",
      "        [5.3229e-01, 4.9334e-02, 7.1188e-01, 7.9014e-01, 9.7313e-01, 5.5608e-02,\n",
      "         7.3731e-02, 8.2769e-01, 7.1465e-01, 4.2487e-01],\n",
      "        [7.1580e-01, 6.2829e-01, 6.2398e-01, 3.0270e-01, 6.0938e-01, 1.0312e-01,\n",
      "         3.9879e-01, 3.8900e-01, 8.2526e-01, 8.2860e-01],\n",
      "        [3.7212e-01, 6.5354e-01, 9.6906e-01, 6.2690e-01, 7.3873e-01, 3.0064e-01,\n",
      "         3.7126e-01, 5.1129e-01, 7.4723e-01, 4.1700e-01],\n",
      "        [1.5819e-02, 6.9419e-01, 6.6606e-01, 8.0393e-01, 9.2329e-01, 3.9074e-01,\n",
      "         1.1308e-01, 7.9186e-01, 7.9376e-01, 3.0685e-01],\n",
      "        [1.8369e-02, 4.6952e-02, 8.4656e-01, 7.9311e-01, 6.6188e-01, 5.6884e-02,\n",
      "         8.6293e-01, 8.5187e-02, 4.9995e-01, 2.0194e-01],\n",
      "        [2.7236e-01, 4.2092e-01, 7.0623e-01, 7.1676e-01, 4.1158e-01, 8.6961e-01,\n",
      "         1.6159e-01, 3.3396e-01, 7.6781e-01, 1.5682e-04],\n",
      "        [5.2160e-01, 7.2886e-01, 4.4623e-01, 1.1708e-01, 2.7644e-01, 5.1202e-01,\n",
      "         5.8636e-01, 8.6428e-01, 9.7993e-01, 2.0165e-01],\n",
      "        [9.2183e-01, 9.6205e-01, 2.7426e-01, 7.9389e-01, 5.7235e-01, 9.9811e-01,\n",
      "         8.3578e-01, 7.2490e-01, 1.4296e-01, 9.3884e-01],\n",
      "        [6.0127e-01, 3.8221e-03, 1.8823e-01, 4.4240e-01, 4.2491e-01, 2.0759e-01,\n",
      "         1.4785e-01, 7.2824e-01, 7.2181e-01, 2.0150e-01]])\n"
     ]
    },
    {
     "ename": "IndexError",
     "evalue": "too many indices for tensor of dimension 2",
     "output_type": "error",
     "traceback": [
      "\u001b[1;31m---------------------------------------------------------------------------\u001b[0m",
      "\u001b[1;31mIndexError\u001b[0m                                Traceback (most recent call last)",
      "Cell \u001b[1;32mIn[18], line 6\u001b[0m\n\u001b[0;32m      4\u001b[0m \u001b[38;5;28mprint\u001b[39m(output)\n\u001b[0;32m      5\u001b[0m \u001b[38;5;66;03m# print(input)\u001b[39;00m\n\u001b[1;32m----> 6\u001b[0m \u001b[38;5;28mprint\u001b[39m(\u001b[43moutput\u001b[49m\u001b[43m[\u001b[49m\u001b[43m:\u001b[49m\u001b[43m,\u001b[49m\u001b[43m \u001b[49m\u001b[38;5;241;43m-\u001b[39;49m\u001b[38;5;241;43m1\u001b[39;49m\u001b[43m,\u001b[49m\u001b[43m \u001b[49m\u001b[43m:\u001b[49m\u001b[43m]\u001b[49m)\n",
      "\u001b[1;31mIndexError\u001b[0m: too many indices for tensor of dimension 2"
     ]
    }
   ],
   "source": [
    "input = torch.rand((4, 8, 10))\n",
    "B, T, C = input.shape\n",
    "output = input.view(B*T, C)\n",
    "print(output)\n",
    "# print(input)\n",
    "print(output[:, -1, :])"
   ]
  },
  {
   "cell_type": "code",
   "execution_count": null,
   "metadata": {},
   "outputs": [],
   "source": []
  },
  {
   "cell_type": "code",
   "execution_count": null,
   "metadata": {},
   "outputs": [],
   "source": []
  },
  {
   "cell_type": "code",
   "execution_count": null,
   "metadata": {},
   "outputs": [],
   "source": []
  },
  {
   "cell_type": "code",
   "execution_count": null,
   "metadata": {},
   "outputs": [],
   "source": []
  },
  {
   "cell_type": "code",
   "execution_count": null,
   "metadata": {},
   "outputs": [],
   "source": []
  }
 ],
 "metadata": {
  "kernelspec": {
   "display_name": "fcc-gpt-cuda",
   "language": "python",
   "name": "python3"
  },
  "language_info": {
   "codemirror_mode": {
    "name": "ipython",
    "version": 3
   },
   "file_extension": ".py",
   "mimetype": "text/x-python",
   "name": "python",
   "nbconvert_exporter": "python",
   "pygments_lexer": "ipython3",
   "version": "3.11.4"
  }
 },
 "nbformat": 4,
 "nbformat_minor": 2
}
